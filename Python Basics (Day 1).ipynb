{
 "cells": [
  {
   "cell_type": "markdown",
   "id": "004b5c71",
   "metadata": {},
   "source": [
    "# Data Types\n",
    "\n",
    "- Character/String\n",
    "- Numeric - Float/Integer/Complex\n",
    "- Boolean - True/False\n",
    "- Date - Different Formats\n",
    "- Date & Time\n",
    "\n",
    "# Data Operators\n",
    "- Addition +\n",
    "- Subtraction -\n",
    "- Multiplication *\n",
    "- Division /\n",
    "- Floor Division //\n",
    "- Mod %\n",
    "- Power **\n",
    "\n",
    "# Comparison/Logical Operators\n",
    "\n",
    "- Greater Than >\n",
    "- Lesser Than <\n",
    "- Greater Than & Equal To >=\n",
    "- Lesser Than & Equal To <=\n",
    "- Not Equal To !=\n",
    "- Equal to ==     Compare Left Hand Side Object with Right Hand Side\n",
    "- Assignment Operator =     Save the Right Hand Side Value in the object mentioned on Left Side\n",
    "\n",
    "# Data Structures in Python\n",
    "\n",
    "- List\n",
    "- Tuple\n",
    "- Dictionary\n",
    "- Set\n",
    "- Array (Numpy)\n",
    "- Series (Pandas)\n",
    "- DataFrame (Pandas)\n",
    "\n",
    "# Libraries in Python\n",
    "\n",
    "- Numpy - Numerical Python for numerical calculations & aggregations on multiple values arranged in a an array.\n",
    "- Pandas - Panel Data used for data stored in tabular format (in rows & columns), lot of similarity with MS Excel\n",
    "- Stats - Used for statistical studies\n",
    "- Scipy/Sklearn - Machine Learning Algorithms\n",
    "- Matplotlib - Visualization of data, plotting different graphs\n",
    "- Seaborn - Visualization of data, plotting different graphs"
   ]
  },
  {
   "cell_type": "code",
   "execution_count": 3,
   "id": "d7075c32",
   "metadata": {},
   "outputs": [
    {
     "data": {
      "text/plain": [
       "32"
      ]
     },
     "execution_count": 3,
     "metadata": {},
     "output_type": "execute_result"
    }
   ],
   "source": [
    "4*8"
   ]
  },
  {
   "cell_type": "code",
   "execution_count": 4,
   "id": "f9543bc0",
   "metadata": {},
   "outputs": [
    {
     "data": {
      "text/plain": [
       "1.3333333333333333"
      ]
     },
     "execution_count": 4,
     "metadata": {},
     "output_type": "execute_result"
    }
   ],
   "source": [
    "8/6"
   ]
  },
  {
   "cell_type": "code",
   "execution_count": 5,
   "id": "423c009b",
   "metadata": {},
   "outputs": [
    {
     "data": {
      "text/plain": [
       "1"
      ]
     },
     "execution_count": 5,
     "metadata": {},
     "output_type": "execute_result"
    }
   ],
   "source": [
    "8//6"
   ]
  },
  {
   "cell_type": "code",
   "execution_count": 6,
   "id": "14c76b40",
   "metadata": {},
   "outputs": [
    {
     "data": {
      "text/plain": [
       "6.25"
      ]
     },
     "execution_count": 6,
     "metadata": {},
     "output_type": "execute_result"
    }
   ],
   "source": [
    "25/4"
   ]
  },
  {
   "cell_type": "code",
   "execution_count": 7,
   "id": "cce3f0d6",
   "metadata": {},
   "outputs": [
    {
     "data": {
      "text/plain": [
       "6"
      ]
     },
     "execution_count": 7,
     "metadata": {},
     "output_type": "execute_result"
    }
   ],
   "source": [
    "25//4"
   ]
  },
  {
   "cell_type": "code",
   "execution_count": 8,
   "id": "6cf637f3",
   "metadata": {},
   "outputs": [
    {
     "data": {
      "text/plain": [
       "2"
      ]
     },
     "execution_count": 8,
     "metadata": {},
     "output_type": "execute_result"
    }
   ],
   "source": [
    "26%3"
   ]
  },
  {
   "cell_type": "code",
   "execution_count": 9,
   "id": "94a35253",
   "metadata": {},
   "outputs": [
    {
     "data": {
      "text/plain": [
       "16"
      ]
     },
     "execution_count": 9,
     "metadata": {},
     "output_type": "execute_result"
    }
   ],
   "source": [
    "2**4"
   ]
  },
  {
   "cell_type": "code",
   "execution_count": 16,
   "id": "976df9d5",
   "metadata": {},
   "outputs": [],
   "source": [
    "a = 5"
   ]
  },
  {
   "cell_type": "code",
   "execution_count": 10,
   "id": "dda125a2",
   "metadata": {},
   "outputs": [
    {
     "ename": "NameError",
     "evalue": "name 'a' is not defined",
     "output_type": "error",
     "traceback": [
      "\u001b[1;31m---------------------------------------------------------------------------\u001b[0m",
      "\u001b[1;31mNameError\u001b[0m                                 Traceback (most recent call last)",
      "Input \u001b[1;32mIn [10]\u001b[0m, in \u001b[0;36m<cell line: 1>\u001b[1;34m()\u001b[0m\n\u001b[1;32m----> 1\u001b[0m \u001b[43ma\u001b[49m\n",
      "\u001b[1;31mNameError\u001b[0m: name 'a' is not defined"
     ]
    }
   ],
   "source": [
    "a"
   ]
  },
  {
   "cell_type": "code",
   "execution_count": 17,
   "id": "acbdbd8e",
   "metadata": {},
   "outputs": [
    {
     "data": {
      "text/plain": [
       "5"
      ]
     },
     "execution_count": 17,
     "metadata": {},
     "output_type": "execute_result"
    }
   ],
   "source": [
    "a"
   ]
  },
  {
   "cell_type": "code",
   "execution_count": 14,
   "id": "34ca2171",
   "metadata": {},
   "outputs": [],
   "source": [
    "a = 9"
   ]
  },
  {
   "cell_type": "code",
   "execution_count": 18,
   "id": "794cbb9a",
   "metadata": {},
   "outputs": [
    {
     "data": {
      "text/plain": [
       "5"
      ]
     },
     "execution_count": 18,
     "metadata": {},
     "output_type": "execute_result"
    }
   ],
   "source": [
    "a"
   ]
  },
  {
   "cell_type": "code",
   "execution_count": 22,
   "id": "fc8d5528",
   "metadata": {},
   "outputs": [
    {
     "data": {
      "text/plain": [
       "8"
      ]
     },
     "execution_count": 22,
     "metadata": {},
     "output_type": "execute_result"
    }
   ],
   "source": [
    "A = 8\n",
    "A"
   ]
  },
  {
   "cell_type": "code",
   "execution_count": 23,
   "id": "f2b31190",
   "metadata": {},
   "outputs": [
    {
     "data": {
      "text/plain": [
       "int"
      ]
     },
     "execution_count": 23,
     "metadata": {},
     "output_type": "execute_result"
    }
   ],
   "source": [
    "a=5\n",
    "type(a)"
   ]
  },
  {
   "cell_type": "code",
   "execution_count": 24,
   "id": "a1405f9a",
   "metadata": {},
   "outputs": [
    {
     "data": {
      "text/plain": [
       "float"
      ]
     },
     "execution_count": 24,
     "metadata": {},
     "output_type": "execute_result"
    }
   ],
   "source": [
    "a=5.4\n",
    "type(a)"
   ]
  },
  {
   "cell_type": "code",
   "execution_count": 25,
   "id": "31f06398",
   "metadata": {},
   "outputs": [
    {
     "data": {
      "text/plain": [
       "complex"
      ]
     },
     "execution_count": 25,
     "metadata": {},
     "output_type": "execute_result"
    }
   ],
   "source": [
    "a=6+5j\n",
    "type(a)"
   ]
  },
  {
   "cell_type": "code",
   "execution_count": 26,
   "id": "3b1d0ffd",
   "metadata": {},
   "outputs": [
    {
     "data": {
      "text/plain": [
       "bool"
      ]
     },
     "execution_count": 26,
     "metadata": {},
     "output_type": "execute_result"
    }
   ],
   "source": [
    "a = True\n",
    "type(a)"
   ]
  },
  {
   "cell_type": "code",
   "execution_count": 27,
   "id": "36955840",
   "metadata": {},
   "outputs": [
    {
     "data": {
      "text/plain": [
       "str"
      ]
     },
     "execution_count": 27,
     "metadata": {},
     "output_type": "execute_result"
    }
   ],
   "source": [
    "a = 'Python'\n",
    "type(a)"
   ]
  },
  {
   "cell_type": "markdown",
   "id": "245cd2bf",
   "metadata": {},
   "source": [
    "# Data Structures\n",
    "\n",
    "# LIST"
   ]
  },
  {
   "cell_type": "code",
   "execution_count": 21,
   "id": "4f3ff021",
   "metadata": {},
   "outputs": [
    {
     "data": {
      "text/plain": [
       "[1, 2, 5, 5.6, 9.4, True, False, 'Neha', 'Python', 6j, (5+4j)]"
      ]
     },
     "execution_count": 21,
     "metadata": {},
     "output_type": "execute_result"
    }
   ],
   "source": [
    "list1 = [1,2,5,5.6,9.4,True, False, 'Neha', 'Python', 6j, 5+4j] \n",
    "list1"
   ]
  },
  {
   "cell_type": "code",
   "execution_count": 31,
   "id": "6295e709",
   "metadata": {},
   "outputs": [
    {
     "data": {
      "text/plain": [
       "(5+4j)"
      ]
     },
     "execution_count": 31,
     "metadata": {},
     "output_type": "execute_result"
    }
   ],
   "source": [
    "list1[10]"
   ]
  },
  {
   "cell_type": "code",
   "execution_count": 30,
   "id": "da1090c0",
   "metadata": {},
   "outputs": [
    {
     "data": {
      "text/plain": [
       "((5+4j), 'Neha')"
      ]
     },
     "execution_count": 30,
     "metadata": {},
     "output_type": "execute_result"
    }
   ],
   "source": [
    "list1[10], list1[7]"
   ]
  },
  {
   "cell_type": "code",
   "execution_count": 38,
   "id": "59037c28",
   "metadata": {},
   "outputs": [
    {
     "data": {
      "text/plain": [
       "[1, 2, 5, 5.6, 9.4, True, False, [1, 2, 3, 4, 5], 'Neha', 'Python', 6j, (5+4j)]"
      ]
     },
     "execution_count": 38,
     "metadata": {},
     "output_type": "execute_result"
    }
   ],
   "source": [
    "list2 = [1,2,5,5.6,9.4,True, False, [1,2,3,4,5], 'Neha', 'Python', 6j, 5+4j] \n",
    "list2"
   ]
  },
  {
   "cell_type": "code",
   "execution_count": 34,
   "id": "b4d64e06",
   "metadata": {},
   "outputs": [
    {
     "data": {
      "text/plain": [
       "4"
      ]
     },
     "execution_count": 34,
     "metadata": {},
     "output_type": "execute_result"
    }
   ],
   "source": [
    "list2[7][3]"
   ]
  },
  {
   "cell_type": "code",
   "execution_count": 39,
   "id": "7d4bead0",
   "metadata": {},
   "outputs": [
    {
     "name": "stdout",
     "output_type": "stream",
     "text": [
      "[1, 2, 5, 5.6, 9.4, True, False, [1, 2, 3, 4, 5], 'Neha', 'Python', 6j, (5+4j)]\n",
      "[1, 2, 5, 5.6, 9.4, True, False, [1, 2, 3, 4, 5], 'Neha', 'Python', 78, (5+4j)]\n"
     ]
    }
   ],
   "source": [
    "print(list2)\n",
    "list2[10] = 78\n",
    "print(list2)"
   ]
  },
  {
   "cell_type": "code",
   "execution_count": 37,
   "id": "dbb19ff2",
   "metadata": {},
   "outputs": [
    {
     "data": {
      "text/plain": [
       "[1, 2, 5, 5.6, 9.4, True, False, [1, 2, 3, 4, 5], 'Neha', 'Python', 78, (5+4j)]"
      ]
     },
     "execution_count": 37,
     "metadata": {},
     "output_type": "execute_result"
    }
   ],
   "source": [
    "list2"
   ]
  },
  {
   "cell_type": "code",
   "execution_count": 41,
   "id": "ad83ddc1",
   "metadata": {},
   "outputs": [
    {
     "name": "stdout",
     "output_type": "stream",
     "text": [
      "[1, 2, 5, 5.6, 9.4, True, False, [1, 2, 3, 4, 5], 'Neha', 'Python', 78, (5+4j)]\n",
      "[1, 2, 5, 5.6, 9.4, True, False, [1, 2, 3, 14, 5], 'Neha', 'Python', 78, (5+4j)]\n"
     ]
    }
   ],
   "source": [
    "print(list2)\n",
    "list2[7][3] = 14\n",
    "print(list2)"
   ]
  },
  {
   "cell_type": "code",
   "execution_count": null,
   "id": "13f64a57",
   "metadata": {},
   "outputs": [],
   "source": [
    "#Difference between function & method??"
   ]
  },
  {
   "cell_type": "markdown",
   "id": "77575727",
   "metadata": {},
   "source": [
    "# Methods in a list\n",
    "\n",
    "- Append\n",
    "- Remove\n",
    "- Pop\n",
    "- Insert\n",
    "- Reverse\n",
    "- Sort\n",
    "- Copy\n",
    "- Index\n",
    "- Count\n",
    "- Extend"
   ]
  },
  {
   "cell_type": "code",
   "execution_count": 44,
   "id": "7b0b8c1c",
   "metadata": {},
   "outputs": [
    {
     "data": {
      "text/plain": [
       "[5, 6, 7, 8, 9, 10, 11]"
      ]
     },
     "execution_count": 44,
     "metadata": {},
     "output_type": "execute_result"
    }
   ],
   "source": [
    "#Slicing\n",
    "list1 = [1,2,3,4,5,6,7,8,9,10,11,12,13,14,15]\n",
    "list1[4:11]"
   ]
  },
  {
   "cell_type": "code",
   "execution_count": 46,
   "id": "fdbaf7d8",
   "metadata": {},
   "outputs": [
    {
     "data": {
      "text/plain": [
       "[5, 1, 401, 5, 5, 2]"
      ]
     },
     "execution_count": 46,
     "metadata": {},
     "output_type": "execute_result"
    }
   ],
   "source": [
    "list1 = [5,4,78,5,5,1,401,5,5,2,2,4,5,52,5]\n",
    "list1[4:10]"
   ]
  },
  {
   "cell_type": "code",
   "execution_count": null,
   "id": "b1973739",
   "metadata": {},
   "outputs": [],
   "source": []
  }
 ],
 "metadata": {
  "kernelspec": {
   "display_name": "Python 3 (ipykernel)",
   "language": "python",
   "name": "python3"
  },
  "language_info": {
   "codemirror_mode": {
    "name": "ipython",
    "version": 3
   },
   "file_extension": ".py",
   "mimetype": "text/x-python",
   "name": "python",
   "nbconvert_exporter": "python",
   "pygments_lexer": "ipython3",
   "version": "3.9.12"
  }
 },
 "nbformat": 4,
 "nbformat_minor": 5
}
